{
 "cells": [
  {
   "cell_type": "code",
   "execution_count": null,
   "metadata": {},
   "outputs": [],
   "source": [
    "from lecture import *"
   ]
  },
  {
   "cell_type": "markdown",
   "metadata": {},
   "source": [
    "# <center> Introduction to programming in Python </center>\n",
    "### <center> [Nicolas Barral](http://www.imperial.ac.uk/people/n.barral), [Gerard Gorman](http://www.imperial.ac.uk/people/g.gorman) </center>\n",
    "\n",
    "# <center> Strings, and dictionaries </center>"
   ]
  },
  {
   "cell_type": "markdown",
   "metadata": {},
   "source": [
    "## Learning objectives: \n",
    "<hr style=\"border: solid 2px red; margin-top: 1.5% \">\n",
    "\n",
    "* Create dictionaries to index data using any type of key.\n",
    "* Retrieve and use data from dictionaries\n",
    "* Parse strings to extract specific data of interest.\n",
    "* Split and join strings"
   ]
  },
  {
   "cell_type": "markdown",
   "metadata": {},
   "source": [
    "## Python dictionaries\n",
    "<hr style=\"border: solid 2px red; margin-top: 1.5% \">\n",
    "\n",
    "Suppose we need to store the temperatures in Oslo, London and Paris. The Python list solution might look like:"
   ]
  },
  {
   "cell_type": "code",
   "execution_count": null,
   "metadata": {},
   "outputs": [],
   "source": [
    "temps = [13, 15.4, 17.5]\n",
    "# temps[0]: Oslo\n",
    "# temps[1]: London\n",
    "# temps[2]: Paris"
   ]
  },
  {
   "cell_type": "markdown",
   "metadata": {},
   "source": [
    "In this case we need to remember the mapping between the index and the city name. It would be easier to specify name of city to get the temperature. Containers such as lists and arrays use a continuous series of integers to index elements. However, for many applications such an integer index is not useful.\n",
    "\n",
    "**Dictionaries** are containers where any Python object can be used\n",
    "as an index. Let's rewrite the previous example using a Python dictionary:"
   ]
  },
  {
   "cell_type": "code",
   "execution_count": null,
   "metadata": {},
   "outputs": [],
   "source": [
    "temps = {\"Oslo\": 13, \"London\": 15.4, \"Paris\": 17.5}\n",
    "print(\"The temperature in London is\", temps[\"London\"])"
   ]
  },
  {
   "cell_type": "markdown",
   "metadata": {},
   "source": [
    "Add a new element to a dictionary:"
   ]
  },
  {
   "cell_type": "code",
   "execution_count": null,
   "metadata": {},
   "outputs": [],
   "source": [
    "temps[\"Madrid\"] = 26.0\n",
    "print(temps)"
   ]
  },
  {
   "cell_type": "markdown",
   "metadata": {},
   "source": [
    "Loop (iterate) over a dictionary:"
   ]
  },
  {
   "cell_type": "code",
   "execution_count": null,
   "metadata": {},
   "outputs": [],
   "source": [
    "for city in temps:\n",
    "    print(\"The temperature in %s is %g\" % (city, temps[city]))"
   ]
  },
  {
   "cell_type": "markdown",
   "metadata": {},
   "source": [
    "The index in a dictionary is called the **key**. A dictionary is said to hold key–value pairs. So in general:\n",
    "```python\n",
    "for key in dictionary:\n",
    "    value = dictionary[key]\n",
    "    print(value)```"
   ]
  },
  {
   "cell_type": "markdown",
   "metadata": {},
   "source": [
    "Does the dictionary have a particular key (*i.e.* a particular data entry)?"
   ]
  },
  {
   "cell_type": "code",
   "execution_count": null,
   "metadata": {},
   "outputs": [],
   "source": [
    "if \"Berlin\" in temps:\n",
    "    print(\"We have Berlin and its temperature is \", temps[\"Berlin\"])\n",
    "else:\n",
    "    print(\"I don't know Berlin' termperature.\")"
   ]
  },
  {
   "cell_type": "code",
   "execution_count": null,
   "metadata": {},
   "outputs": [],
   "source": [
    "print(\"Oslo\" in temps) # i.e. standard boolean expression"
   ]
  },
  {
   "cell_type": "markdown",
   "metadata": {},
   "source": [
    "The keys and values can be reached as lists:"
   ]
  },
  {
   "cell_type": "code",
   "execution_count": null,
   "metadata": {},
   "outputs": [],
   "source": [
    "print(\"Keys = \", temps.keys())\n",
    "print(\"Values = \", temps.values())"
   ]
  },
  {
   "cell_type": "markdown",
   "metadata": {},
   "source": [
    "Note that the sequence of keys is **arbitrary**! Never rely on it, if you need a specific order of the keys then you should explicitly sort:"
   ]
  },
  {
   "cell_type": "code",
   "execution_count": null,
   "metadata": {},
   "outputs": [],
   "source": [
    "for key in sorted(temps):\n",
    "    value = temps[key]\n",
    "    print(key, value)"
   ]
  },
  {
   "cell_type": "markdown",
   "metadata": {},
   "source": [
    "Remove Oslo key:value:"
   ]
  },
  {
   "cell_type": "code",
   "execution_count": null,
   "metadata": {},
   "outputs": [],
   "source": [
    "del temps[\"Oslo\"] # remove Oslo key w/value\n",
    "print(temps, len(temps))"
   ]
  },
  {
   "cell_type": "markdown",
   "metadata": {},
   "source": [
    "Similarly to what we saw for arrays, two variables can refer to the same dictionary:"
   ]
  },
  {
   "cell_type": "code",
   "execution_count": null,
   "metadata": {},
   "outputs": [],
   "source": [
    "t1 = temps\n",
    "t1[\"Stockholm\"] = 10.0\n",
    "print(temps)"
   ]
  },
  {
   "cell_type": "markdown",
   "metadata": {},
   "source": [
    "So we can see that while we modified *t1*, the *temps* dictionary was also changed."
   ]
  },
  {
   "cell_type": "markdown",
   "metadata": {},
   "source": [
    "Let's look at a simple example of reading the same data from a file and putting it into a dictionary. We will be reading the file [data/deg2.dat](data/deg2.dat)."
   ]
  },
  {
   "cell_type": "code",
   "execution_count": null,
   "metadata": {},
   "outputs": [],
   "source": [
    "infile = open(\"data/deg2.dat\", \"r\")\n",
    "# Start with empty dictionary\n",
    "temps = {}             \n",
    "for line in infile:\n",
    "    # If you examine the file you will see a ':' after the city name,\n",
    "    # so let's use this as the delimiter for splitting the line.\n",
    "    city, temp = line.split(\":\") \n",
    "    temps[city] = float(temp)\n",
    "infile.close()\n",
    "print(temps)"
   ]
  },
  {
   "cell_type": "markdown",
   "metadata": {},
   "source": [
    "## <span style=\"color:blue\">Exercice 7.1:</span> Make a dictionary from a table\n",
    "\n",
    "Consider the following table:\n",
    "\n",
    "| Material               | Shear modulus $\\mu$ (GPa) | Bulk modulus $k$ (GPa) | Density $\\rho$ (kg/m^3)|\n",
    "|------------------------|---------------------------|------------------------|------------------------|\n",
    "|Diamond                 | 455                       | 540                    | 3500                   |\n",
    "|Quartz                  | 44                        | 38                     | 2650                   | \n",
    "|Clay                    | 6.85                      | 20.9                   | 2580                   |\n",
    "|Water                   | 0                         | 2.29                   | 1000                   |\n",
    "\n",
    "\n",
    "1. Make a dictionary called `density` that contains the densities of all 4 previous materials using a string containing their name in lower case as keys\n",
    "\n",
    "2. Make a dictionary called `moduli`  that contains *tuples* made of the shear and bulk moduli (in that order) indexed by the names of the materials in lower case.\n",
    "\n",
    "3. Write a loop over the `density` dictionary to compute the average density of these four materials. Store the average in a variable called `density_average`.\n",
    "\n",
    "4. Write a loop over the `moduli` dictionary to compute the average shear and bulk moduli of these four materials. Store the averages in variables called `shear_mod_average` and `bulk_mod_average`"
   ]
  },
  {
   "cell_type": "code",
   "execution_count": null,
   "metadata": {},
   "outputs": [],
   "source": []
  },
  {
   "cell_type": "code",
   "execution_count": null,
   "metadata": {},
   "outputs": [],
   "source": [
    "ok.grade(\"question-7_1\")"
   ]
  },
  {
   "cell_type": "markdown",
   "metadata": {},
   "source": [
    "## <span style=\"color:blue\">Exercice 7.2:</span> Explore syntax differences: lists vs. dictionaries\n",
    "\n",
    "Consider the following Python expression:\n",
    "```python\n",
    "t1 = [-5, 10.5, -1, 4]\n",
    "```\n",
    "\n",
    "1. Create a Python dictionary (call it `t2`) that stores the elements of the list with the keys being the indices of the elements in the list.\n",
    "\n",
    "2. Add an extra element `3.14` at the end of the list (use the appropriate Python built-in function), and add the corresponding pair of key/value in the dictionary."
   ]
  },
  {
   "cell_type": "code",
   "execution_count": null,
   "metadata": {},
   "outputs": [],
   "source": [
    "# Your code here\n",
    "\n",
    "# t1 = [-5, 10.5, -1, 4]\n",
    "# t2 ="
   ]
  },
  {
   "cell_type": "code",
   "execution_count": null,
   "metadata": {},
   "outputs": [],
   "source": [
    "ok.grade('question-7_2')"
   ]
  },
  {
   "cell_type": "markdown",
   "metadata": {},
   "source": [
    "## <span style=\"color:blue\">Exercice 7.3:</span> Make a dictionary from a file\n",
    "\n",
    "The file [data/constants.txt](data/constants.txt) contains a table of the values and the dimensions of some fundamental constants from physics. We want to load this table into a dictionary called `constants`, where the keys are the names of the constants. For example, `constants['gravitational constant']` holds the value of the gravitational constant ($6.67259 \\times 10^{-11}$) in Newton's law of gravitation. \n",
    "\n",
    "Make a function `read_constants(file_path)`  that that reads and interprets the text in the file passed as argument, and thereafter returns the dictionary.\n",
    "\n",
    "Hint: to build up the name of the constant from several words, you can use the `join` method. What does the following snippet of code do ? (try !)\n",
    "```python\n",
    "tuple_of_words = (\"I\", \"need\", \"to\", \"take\", \"a\", \"break\")\n",
    "string1 = \" \".join(tuple_of_words)\n",
    "string2 = \".\".join(tuple_of_words)\n",
    "```"
   ]
  },
  {
   "cell_type": "code",
   "execution_count": null,
   "metadata": {},
   "outputs": [],
   "source": [
    "# your code here\n",
    "\n",
    "# ...\n",
    "\n",
    "# print(read_constants('data/constants.txt'))"
   ]
  },
  {
   "cell_type": "code",
   "execution_count": null,
   "metadata": {},
   "outputs": [],
   "source": [
    "ok.grade('question-7_3')"
   ]
  },
  {
   "cell_type": "markdown",
   "metadata": {},
   "source": [
    "## <span style=\"color:blue\">Exercice 7.4:</span> Compute the area of a triangle\n",
    "\n",
    "An arbitrary triangle can be described by the coordinates of its three vertices: $(x_1, y_1), (x_2, y_2), (x_3, y_3)$, numbered in a counterclockwise direction. The area of the triangle is given by the formula:\n",
    "\n",
    "$A = \\frac{1}{2}|x_2y_3 - x_3y_2 - x_1y_3 + x_3y_1 + x_1y_2 - x_2y_1|.$\n",
    "\n",
    "Write a function `triangle_area_lists(vertices)` that returns the area of a triangle whose vertices are specified by the argument `vertices`, which is a nested list of the vertex coordinates. For example, vertices can be `[[0,0], [1,0], [0,2]]` if the three corners of the triangle have coordinates $(0, 0)$, $(1, 0)$, and $(0, 2)$.\n",
    "\n",
    "Then, write another version of the function called `triangle_area_dict(vertices)` where you assume that the vertices of the triangle are stored in a dictionary and not a list. The keys in the dictionary correspond to the vertex number (1, 2, or 3) while the values are 2-tuples with the x and y coordinates of the vertex. For example, in a triangle with vertices $(0, 0)$, $(1, 0)$, and $(0, 2)$ the vertices argument becomes: `{1: (0, 0), 2: (1, 0), 3: (0,2)}`"
   ]
  },
  {
   "cell_type": "code",
   "execution_count": null,
   "metadata": {},
   "outputs": [],
   "source": []
  },
  {
   "cell_type": "code",
   "execution_count": null,
   "metadata": {},
   "outputs": [],
   "source": [
    "ok.grade('question-7_4')"
   ]
  },
  {
   "cell_type": "markdown",
   "metadata": {},
   "source": [
    "## String manipulation\n",
    "<hr style=\"border: solid 2px red; margin-top: 1.5% \">\n",
    "\n",
    "Text in Python is represented as **strings**. Programming with strings is therefore the key to interpret text in files and construct new text (*i.e.* **parsing**). "
   ]
  },
  {
   "cell_type": "markdown",
   "metadata": {},
   "source": [
    "### Reminder:\n",
    "<hr style=\"border: solid 1px red; margin-top: 1.5% \">\n",
    "\n",
    "A string is contained in single or double quotes, or triple double quotes for multi-line strings: "
   ]
  },
  {
   "cell_type": "code",
   "execution_count": null,
   "metadata": {},
   "outputs": [],
   "source": [
    "s1 = \"This is a string\"\n",
    "s2 = 'This is another string'\n",
    "s3 = \"\"\"This is\n",
    "a\n",
    "multiline string \"\"\"\n",
    "\n",
    "print(s1)\n",
    "print(s2)\n",
    "print(s3)"
   ]
  },
  {
   "cell_type": "markdown",
   "metadata": {},
   "source": [
    "Strings can be formatted using the `%` symbol:"
   ]
  },
  {
   "cell_type": "code",
   "execution_count": null,
   "metadata": {},
   "outputs": [],
   "source": [
    "from math import pi\n",
    "\n",
    "constant = \"Pi\"\n",
    "s = \"The value of %s is approximately %.5f\" % (constant, pi)\n",
    "print(s)"
   ]
  },
  {
   "cell_type": "markdown",
   "metadata": {},
   "source": [
    "### Strings are iterable objects\n",
    "<hr style=\"border: solid 1px red; margin-top: 1.5% \">\n",
    "\n",
    "First we show some common string operations and then we apply them to real examples. Our sample string used for illustration is:"
   ]
  },
  {
   "cell_type": "code",
   "execution_count": null,
   "metadata": {},
   "outputs": [],
   "source": [
    "s = \"Berlin: 18.4 C at 4 pm\""
   ]
  },
  {
   "cell_type": "markdown",
   "metadata": {},
   "source": [
    "Strings behave much like lists/tuples - they are simply a sequence of characters:"
   ]
  },
  {
   "cell_type": "code",
   "execution_count": null,
   "metadata": {},
   "outputs": [],
   "source": [
    "print(\"s[0] = \", s[0])\n",
    "print(\"s[1] = \", s[1])"
   ]
  },
  {
   "cell_type": "markdown",
   "metadata": {},
   "source": [
    "Substrings are just slices of lists and arrays:"
   ]
  },
  {
   "cell_type": "code",
   "execution_count": null,
   "metadata": {},
   "outputs": [],
   "source": [
    "# from index 8 to the end of the string\n",
    "print(s[8:])"
   ]
  },
  {
   "cell_type": "code",
   "execution_count": null,
   "metadata": {},
   "outputs": [],
   "source": [
    "# index 8, 9, 10 and 11 (not 12!)\n",
    "print(s[8:12])"
   ]
  },
  {
   "cell_type": "code",
   "execution_count": null,
   "metadata": {},
   "outputs": [],
   "source": [
    "# from index 8 to 8 from the end of the string\n",
    "print(s[8:-8])"
   ]
  },
  {
   "cell_type": "markdown",
   "metadata": {},
   "source": [
    "You can also find the start of a substring:"
   ]
  },
  {
   "cell_type": "code",
   "execution_count": null,
   "metadata": {},
   "outputs": [],
   "source": [
    "# where does \"Berlin\" start?\n",
    "print(s.find(\"Berlin\"))"
   ]
  },
  {
   "cell_type": "code",
   "execution_count": null,
   "metadata": {},
   "outputs": [],
   "source": [
    "print(s.find(\"pm\"))"
   ]
  },
  {
   "cell_type": "code",
   "execution_count": null,
   "metadata": {},
   "outputs": [],
   "source": [
    "print (s.find(\"Oslo\"))"
   ]
  },
  {
   "cell_type": "markdown",
   "metadata": {},
   "source": [
    "In this last example, Oslo does not exist in the list so the return value is -1."
   ]
  },
  {
   "cell_type": "markdown",
   "metadata": {},
   "source": [
    "We can also check if a substring is contained in a string:"
   ]
  },
  {
   "cell_type": "code",
   "execution_count": null,
   "metadata": {},
   "outputs": [],
   "source": [
    "print (\"Berlin\" in s)"
   ]
  },
  {
   "cell_type": "code",
   "execution_count": null,
   "metadata": {},
   "outputs": [],
   "source": [
    "print (\"Oslo\" in s)"
   ]
  },
  {
   "cell_type": "code",
   "execution_count": null,
   "metadata": {},
   "outputs": [],
   "source": [
    "if \"C\" in s:\n",
    "    print(\"C found\")\n",
    "else:\n",
    "    print(\"C not found\")"
   ]
  },
  {
   "cell_type": "markdown",
   "metadata": {},
   "source": [
    "### Search and replace\n",
    "<hr style=\"border: solid 1px red; margin-top: 1.5% \">\n",
    "\n",
    "Strings also support substituting a substring by another string. In general this looks like *s.replace(s1, s2)*, which replaces string *s1* in *s* by string *s2*, *e.g.*:"
   ]
  },
  {
   "cell_type": "code",
   "execution_count": null,
   "metadata": {},
   "outputs": [],
   "source": [
    "s = s.replace(\" \", \"_\")\n",
    "print(s)"
   ]
  },
  {
   "cell_type": "code",
   "execution_count": null,
   "metadata": {},
   "outputs": [],
   "source": [
    "s = s.replace(\"Berlin\", \"Bonn\")\n",
    "print(s)"
   ]
  },
  {
   "cell_type": "code",
   "execution_count": null,
   "metadata": {},
   "outputs": [],
   "source": [
    "# Replace the text before the first colon by 'London'\n",
    "s = s.replace(s[:s.find(\":\")], \"London\")\n",
    "print(s)"
   ]
  },
  {
   "cell_type": "markdown",
   "metadata": {},
   "source": [
    "Notice that in all these examples we assign the new result back to *s*. One of the reasons we are doing this is strings are actually constant (*i.e* immutable) and therefore cannot be modified *inplace*. We **cannot** write for example:\n",
    "\n",
    "```python\n",
    "s[18] = '5'\n",
    "TypeError: \"str\" object does not support item assignment```"
   ]
  },
  {
   "cell_type": "markdown",
   "metadata": {},
   "source": [
    "We also encountered examples above where we used the split function to break up a line into separate substrings for a given separator (where a space is the default delimiter). Sometimes we want to split a string into lines - *i.e.* the delimiter is the [carriage return](http://en.wikipedia.org/wiki/Carriage_return). This can be surprisingly tricky because different computing platforms (*e.g.* Windows, Linux, Mac) use different characters to represent a carriage return. For example, Unix uses '\\n'. Luckly Python provides a *cross platform* way of doing this so regardless of what platform created the data file, or what platform you are running Python on, it will do the *right thing*: "
   ]
  },
  {
   "cell_type": "code",
   "execution_count": null,
   "metadata": {},
   "outputs": [],
   "source": [
    "t = \"1st line\\n2nd line\\n3rd line\"\n",
    "print (\"\"\"original t =\n",
    "\"\"\", t)"
   ]
  },
  {
   "cell_type": "code",
   "execution_count": null,
   "metadata": {},
   "outputs": [],
   "source": [
    "# This works here but will give you problems if you are switching\n",
    "# files between Windows and either Mac or Linux.\n",
    "print (t.split(\"\\n\"))"
   ]
  },
  {
   "cell_type": "code",
   "execution_count": null,
   "metadata": {},
   "outputs": [],
   "source": [
    "# Cross platform (ie better) solution\n",
    "print(t.splitlines())"
   ]
  },
  {
   "cell_type": "markdown",
   "metadata": {},
   "source": [
    "### Stripping off leading/trailing whitespace\n",
    "<hr style=\"border: solid 1px red; margin-top: 1.5% \">\n",
    "\n",
    "When processing text from a file and composing new strings, we frequently need to trim leading and trailing whitespaces:"
   ]
  },
  {
   "cell_type": "code",
   "execution_count": null,
   "metadata": {},
   "outputs": [],
   "source": [
    "s = \"        text with leading and trailing spaces          \\n\"\n",
    "print(\"-->%s<--\"%s.strip())"
   ]
  },
  {
   "cell_type": "code",
   "execution_count": null,
   "metadata": {},
   "outputs": [],
   "source": [
    "# left strip\n",
    "print(\"-->%s<--\"%s.lstrip())"
   ]
  },
  {
   "cell_type": "code",
   "execution_count": null,
   "metadata": {},
   "outputs": [],
   "source": [
    "# right strip\n",
    "print(\"-->%s<--\"%s.rstrip())"
   ]
  },
  {
   "cell_type": "markdown",
   "metadata": {},
   "source": [
    "### join() (the opposite of split())\n",
    "<hr style=\"border: solid 1px red; margin-top: 1.5% \">\n",
    "\n",
    "We can join a list of substrings to form a new string. Similarly to *split()* we put strings together with a delimiter inbetween:"
   ]
  },
  {
   "cell_type": "code",
   "execution_count": null,
   "metadata": {},
   "outputs": [],
   "source": [
    "strings = [\"Newton\", \"Secant\", \"Bisection\"]\n",
    "print(\", \".join(strings))"
   ]
  },
  {
   "cell_type": "markdown",
   "metadata": {},
   "source": [
    "You can prove to yourself that these are inverse operations:\n",
    "```python\n",
    "t = delimiter.join(stringlist)\n",
    "stringlist = t.split(delimiter)```"
   ]
  },
  {
   "cell_type": "markdown",
   "metadata": {},
   "source": [
    "As an example, let's split off the first two words on a line:"
   ]
  },
  {
   "cell_type": "code",
   "execution_count": null,
   "metadata": {},
   "outputs": [],
   "source": [
    "line = \"This is a line of words separated by space\"\n",
    "words = line.split()\n",
    "print(\"words = \", words)\n",
    "line2 = \" \".join(words[2:])\n",
    "print(\"line2 = \", line2)"
   ]
  },
  {
   "cell_type": "markdown",
   "metadata": {},
   "source": [
    "## <span style=\"color:blue\">Exercice 7.5:</span>manipulate strings\n",
    "\n",
    "Copy the following text into a string called `string1`:\n",
    " > As when in brazen vats of water the trembling beams of light,\n",
    " > reflected from the sun, or from the image of the radiant moon\n",
    "\n",
    "1. Extract the substring between the 4th and 22nd characters and store it in string named `substring1`.\n",
    "2. Create a list containing the following strings : `\"brazen\", \"ship\", \"star\", \"moon\"`. Loop over this list, and check if the words are in `string1`. Store your result as a list of booleans named `word_is_in_text`.\n",
    "3. Create a new string `string2` where you replace all occurrences of *the*  by *a* in `string1`.\n",
    "4. Split the string on `, ` (a coma followed by a whitespace) (*i.e.* create a list of strings corresponding to the substrings of `string1` delimited by `, `)  and create a new string called `string3` where you join the first and the last of the previous bits with `_`."
   ]
  },
  {
   "cell_type": "code",
   "execution_count": null,
   "metadata": {},
   "outputs": [],
   "source": []
  },
  {
   "cell_type": "code",
   "execution_count": null,
   "metadata": {},
   "outputs": [],
   "source": [
    "ok.grade('question-7_5')"
   ]
  },
  {
   "cell_type": "markdown",
   "metadata": {},
   "source": [
    "## <span style=\"color:blue\">Exercice 7.6 (\\*):</span> Improve a program\n",
    "\n",
    "The file [data/densities.dat](data/densities.dat) contains a table of densities of various substances measured in g/cm$^3$. The following program reads the data in this file and produces a dictionary whose keys are the names of substances, and the values are the corresponding densities."
   ]
  },
  {
   "cell_type": "code",
   "execution_count": null,
   "metadata": {},
   "outputs": [],
   "source": [
    "def read_densities(filename):\n",
    "    infile = open(filename, 'r')\n",
    "    densities = {}\n",
    "    for line in infile:\n",
    "        words = line.split()\n",
    "        density = float(words[-1])\n",
    "    \n",
    "        if len(words[:-1]) == 2:\n",
    "            substance = words[0] + ' ' + words[1]\n",
    "        else:\n",
    "            substance = words[0]\n",
    "        \n",
    "        densities[substance] = density\n",
    "    \n",
    "    infile.close()\n",
    "    return densities\n",
    "\n",
    "densities = read_densities('data/densities.dat')\n",
    "print(densities)"
   ]
  },
  {
   "cell_type": "markdown",
   "metadata": {},
   "source": [
    "One problem we face when implementing the program above is that the name of the substance can contain one or two words, and maybe more words in a more comprehensive table. The purpose of this exercise is to use string operations to shorten the code and make it more general. Two methods can be used for for that:\n",
    "\n",
    "1. Let *substance* consist of all the words but the last, using the join method to combine the words.\n",
    "2. Observe that all the densities start in the same column and use substrings to divide lines into two parts. Strip the first part such that, e.g., the density of ice is obtained as `densities['ice']` and not `densities['ice     ']`.)\n",
    "\n",
    "Create two modified versions of  `read_densities` that implement the two proposed methods, called `read_densities_join` and `read_densities_substrings`. The functions should take the same arguments and return the same thing as `read_densities`."
   ]
  },
  {
   "cell_type": "code",
   "execution_count": null,
   "metadata": {},
   "outputs": [],
   "source": []
  },
  {
   "cell_type": "code",
   "execution_count": null,
   "metadata": {},
   "outputs": [],
   "source": [
    "ok.grade('question-7_6')"
   ]
  },
  {
   "cell_type": "code",
   "execution_count": null,
   "metadata": {},
   "outputs": [],
   "source": [
    " ok.score()"
   ]
  }
 ],
 "metadata": {
  "kernelspec": {
   "display_name": "Python 3",
   "language": "python",
   "name": "python3"
  },
  "language_info": {
   "codemirror_mode": {
    "name": "ipython",
    "version": 3
   },
   "file_extension": ".py",
   "mimetype": "text/x-python",
   "name": "python",
   "nbconvert_exporter": "python",
   "pygments_lexer": "ipython3",
   "version": "3.7.0"
  }
 },
 "nbformat": 4,
 "nbformat_minor": 1
}
